{
 "cells": [
  {
   "cell_type": "code",
   "execution_count": 1,
   "id": "8d0ca7b8",
   "metadata": {},
   "outputs": [],
   "source": [
    "#step one, get the top 100\n",
    "import pandas as pd\n",
    "from bs4 import BeautifulSoup\n",
    "import requests "
   ]
  },
  {
   "cell_type": "code",
   "execution_count": null,
   "id": "db2db47e",
   "metadata": {},
   "outputs": [],
   "source": []
  },
  {
   "cell_type": "code",
   "execution_count": null,
   "id": "57664f90",
   "metadata": {},
   "outputs": [],
   "source": []
  },
  {
   "cell_type": "code",
   "execution_count": 2,
   "id": "85c91a47",
   "metadata": {},
   "outputs": [],
   "source": [
    "URL = 'https://www.billboard.com/charts/hot-100/'\n",
    "Top100Website = requests.get(URL)\n",
    "result = BeautifulSoup(Top100Website.content, 'html.parser')"
   ]
  },
  {
   "cell_type": "code",
   "execution_count": 3,
   "id": "d6c076d1",
   "metadata": {},
   "outputs": [],
   "source": [
    "result.find(\"span\", id=\"count_texttitle-of-a-story\")"
   ]
  },
  {
   "cell_type": "code",
   "execution_count": 4,
   "id": "b482da57",
   "metadata": {},
   "outputs": [],
   "source": [
    "line_number = 0\n",
    "place_number = 0\n",
    "Song = \"\";\n",
    "Artists = \"\";\n",
    "Top_100 = pd.DataFrame(columns=['place','song','artists'])\n",
    "\n",
    "for lines in result.find_all(\"li\", {\"o-chart-results-list__item\"}):\n",
    "    line_number += 1\n",
    "\n",
    " \n",
    "    if((line_number-4)%14==0):\n",
    "        place_number += 1\n",
    "        internal_line = 1\n",
    "        for current_line in lines.get_text().splitlines():\n",
    "\n",
    "            if(current_line.strip()!=\"\"):\n",
    "                if(internal_line==1):\n",
    "                    Song = current_line.strip()\n",
    "                else:\n",
    "                    Artists = current_line.strip()\n",
    "                    # \n",
    "                    Top_100.loc[place_number -1] = [place_number, Song, Artists]\n",
    " \n",
    "                internal_line += 1"
   ]
  },
  {
   "cell_type": "code",
   "execution_count": null,
   "id": "c6033d41",
   "metadata": {},
   "outputs": [],
   "source": []
  },
  {
   "cell_type": "code",
   "execution_count": 5,
   "id": "19ffc359",
   "metadata": {},
   "outputs": [
    {
     "data": {
      "text/html": [
       "<div>\n",
       "<style scoped>\n",
       "    .dataframe tbody tr th:only-of-type {\n",
       "        vertical-align: middle;\n",
       "    }\n",
       "\n",
       "    .dataframe tbody tr th {\n",
       "        vertical-align: top;\n",
       "    }\n",
       "\n",
       "    .dataframe thead th {\n",
       "        text-align: right;\n",
       "    }\n",
       "</style>\n",
       "<table border=\"1\" class=\"dataframe\">\n",
       "  <thead>\n",
       "    <tr style=\"text-align: right;\">\n",
       "      <th></th>\n",
       "      <th>place</th>\n",
       "      <th>song</th>\n",
       "      <th>artists</th>\n",
       "    </tr>\n",
       "  </thead>\n",
       "  <tbody>\n",
       "    <tr>\n",
       "      <th>0</th>\n",
       "      <td>1</td>\n",
       "      <td>As It Was</td>\n",
       "      <td>Harry Styles</td>\n",
       "    </tr>\n",
       "    <tr>\n",
       "      <th>1</th>\n",
       "      <td>2</td>\n",
       "      <td>First Class</td>\n",
       "      <td>Jack Harlow</td>\n",
       "    </tr>\n",
       "    <tr>\n",
       "      <th>2</th>\n",
       "      <td>3</td>\n",
       "      <td>Heat Waves</td>\n",
       "      <td>Glass Animals</td>\n",
       "    </tr>\n",
       "    <tr>\n",
       "      <th>3</th>\n",
       "      <td>4</td>\n",
       "      <td>Big Energy</td>\n",
       "      <td>Latto</td>\n",
       "    </tr>\n",
       "    <tr>\n",
       "      <th>4</th>\n",
       "      <td>5</td>\n",
       "      <td>Enemy</td>\n",
       "      <td>Imagine Dragons X JID</td>\n",
       "    </tr>\n",
       "    <tr>\n",
       "      <th>...</th>\n",
       "      <td>...</td>\n",
       "      <td>...</td>\n",
       "      <td>...</td>\n",
       "    </tr>\n",
       "    <tr>\n",
       "      <th>95</th>\n",
       "      <td>96</td>\n",
       "      <td>P Power</td>\n",
       "      <td>Gunna Featuring Drake</td>\n",
       "    </tr>\n",
       "    <tr>\n",
       "      <th>96</th>\n",
       "      <td>97</td>\n",
       "      <td>Money So Big</td>\n",
       "      <td>Yeat</td>\n",
       "    </tr>\n",
       "    <tr>\n",
       "      <th>97</th>\n",
       "      <td>98</td>\n",
       "      <td>Blick Blick!</td>\n",
       "      <td>Coi Leray &amp; Nicki Minaj</td>\n",
       "    </tr>\n",
       "    <tr>\n",
       "      <th>98</th>\n",
       "      <td>99</td>\n",
       "      <td>Fall In Love</td>\n",
       "      <td>Bailey Zimmerman</td>\n",
       "    </tr>\n",
       "    <tr>\n",
       "      <th>99</th>\n",
       "      <td>100</td>\n",
       "      <td>X Ultima Vez</td>\n",
       "      <td>Daddy Yankee &amp; Bad Bunny</td>\n",
       "    </tr>\n",
       "  </tbody>\n",
       "</table>\n",
       "<p>100 rows × 3 columns</p>\n",
       "</div>"
      ],
      "text/plain": [
       "    place          song                   artists\n",
       "0       1     As It Was              Harry Styles\n",
       "1       2   First Class               Jack Harlow\n",
       "2       3    Heat Waves             Glass Animals\n",
       "3       4    Big Energy                     Latto\n",
       "4       5         Enemy     Imagine Dragons X JID\n",
       "..    ...           ...                       ...\n",
       "95     96       P Power     Gunna Featuring Drake\n",
       "96     97  Money So Big                      Yeat\n",
       "97     98  Blick Blick!   Coi Leray & Nicki Minaj\n",
       "98     99  Fall In Love          Bailey Zimmerman\n",
       "99    100  X Ultima Vez  Daddy Yankee & Bad Bunny\n",
       "\n",
       "[100 rows x 3 columns]"
      ]
     },
     "execution_count": 5,
     "metadata": {},
     "output_type": "execute_result"
    }
   ],
   "source": [
    "#temporary\n",
    "Top_100"
   ]
  },
  {
   "cell_type": "code",
   "execution_count": null,
   "id": "4f86adda",
   "metadata": {},
   "outputs": [],
   "source": []
  },
  {
   "cell_type": "code",
   "execution_count": 6,
   "id": "89fde238",
   "metadata": {},
   "outputs": [
    {
     "name": "stdout",
     "output_type": "stream",
     "text": [
      "Please enter a song to base a recommendation on Enemy\n"
     ]
    }
   ],
   "source": [
    "recommend_me_something_for_this = input(\"Please enter a song to base a recommendation on \")"
   ]
  },
  {
   "cell_type": "code",
   "execution_count": 7,
   "id": "c76b0b80",
   "metadata": {},
   "outputs": [],
   "source": [
    "Number_Of_Songs_Found = len(Top_100[Top_100['song'] == recommend_me_something_for_this])"
   ]
  },
  {
   "cell_type": "code",
   "execution_count": 8,
   "id": "bd892a4b",
   "metadata": {},
   "outputs": [
    {
     "name": "stdout",
     "output_type": "stream",
     "text": [
      "Let me recommend you:\n",
      "    place       song       artists\n",
      "36     37  Boyfriend  Dove Cameron\n"
     ]
    }
   ],
   "source": [
    "if(Number_Of_Songs_Found>0):\n",
    "    #find a new song\n",
    "    print(\"Let me recommend you:\")\n",
    "    recommendation_dataframe = Top_100.sample(n=1)\n",
    "    print(str(recommendation_dataframe ))\n",
    "else:\n",
    "    print(\"“Unfortunately, the song is not in the hot list!\")    "
   ]
  },
  {
   "cell_type": "code",
   "execution_count": null,
   "id": "973f7f21",
   "metadata": {},
   "outputs": [],
   "source": []
  }
 ],
 "metadata": {
  "kernelspec": {
   "display_name": "Python 3 (ipykernel)",
   "language": "python",
   "name": "python3"
  },
  "language_info": {
   "codemirror_mode": {
    "name": "ipython",
    "version": 3
   },
   "file_extension": ".py",
   "mimetype": "text/x-python",
   "name": "python",
   "nbconvert_exporter": "python",
   "pygments_lexer": "ipython3",
   "version": "3.9.7"
  }
 },
 "nbformat": 4,
 "nbformat_minor": 5
}
