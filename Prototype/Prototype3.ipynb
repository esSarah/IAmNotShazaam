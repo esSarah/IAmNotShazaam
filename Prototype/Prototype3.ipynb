{
 "cells": [
  {
   "cell_type": "code",
   "execution_count": 12,
   "id": "ae5cb19e",
   "metadata": {},
   "outputs": [],
   "source": [
    "#step one, get the top 100\n",
    "import pandas as pd\n",
    "from bs4 import BeautifulSoup\n",
    "import requests\n",
    "import sounddevice as sd\n",
    "from scipy.io.wavfile import write\n",
    "import os\n",
    "from pydub import AudioSegment\n",
    "import ffmpeg\n",
    "from ShazamAPI import Shazam\n",
    "import json"
   ]
  },
  {
   "cell_type": "code",
   "execution_count": 26,
   "id": "279634eb",
   "metadata": {},
   "outputs": [
    {
     "ename": "ModuleNotFoundError",
     "evalue": "No module named 'shazaam'",
     "output_type": "error",
     "traceback": [
      "\u001b[1;31m---------------------------------------------------------------------------\u001b[0m",
      "\u001b[1;31mModuleNotFoundError\u001b[0m                       Traceback (most recent call last)",
      "Input \u001b[1;32mIn [26]\u001b[0m, in \u001b[0;36m<cell line: 1>\u001b[1;34m()\u001b[0m\n\u001b[1;32m----> 1\u001b[0m \u001b[38;5;28;01mimport\u001b[39;00m \u001b[38;5;21;01mshazaam\u001b[39;00m\n",
      "\u001b[1;31mModuleNotFoundError\u001b[0m: No module named 'shazaam'"
     ]
    }
   ],
   "source": []
  },
  {
   "cell_type": "code",
   "execution_count": null,
   "id": "81a50943",
   "metadata": {},
   "outputs": [],
   "source": [
    "\n",
    "\n"
   ]
  },
  {
   "cell_type": "code",
   "execution_count": 13,
   "id": "662a674b",
   "metadata": {},
   "outputs": [],
   "source": [
    "def doShazam():\n",
    "    mp3_file_content_to_recognize = open('song.mp3', 'rb').read()\n",
    "\n",
    "    shazam = Shazam(mp3_file_content_to_recognize)\n",
    "    recognize_generator = shazam.recognizeSong()\n",
    "\n",
    "    return (next(recognize_generator)) "
   ]
  },
  {
   "cell_type": "code",
   "execution_count": 14,
   "id": "15df3bd3",
   "metadata": {},
   "outputs": [],
   "source": [
    "def get_shazam_title():\n",
    "    #getAudio()\n",
    "    doShazam()\n",
    "\n",
    "    if is_recognizable():\n",
    "        return get_song_info()\n",
    "    else:\n",
    "        return \"empty\""
   ]
  },
  {
   "cell_type": "code",
   "execution_count": 15,
   "id": "524a9411",
   "metadata": {},
   "outputs": [],
   "source": [
    "def soundex(name):\n",
    "\n",
    "\n",
    "    \"\"\"\n",
    "    The Soundex algorithm assigns a 1-letter + 3-digit code to strings,\n",
    "    the intention being that strings pronounced the same but spelled\n",
    "    differently have identical encodings; words pronounced similarly\n",
    "    should have similar encodings.\n",
    "    \"\"\"\n",
    "\n",
    "    soundexcoding = [' ', ' ', ' ', ' ']\n",
    "    soundexcodingindex = 1\n",
    "\n",
    "    #           ABCDEFGHIJKLMNOPQRSTUVWXYZ\n",
    "    mappings = \"01230120022455012623010202\"\n",
    "\n",
    "    soundexcoding[0] = name[0].upper()\n",
    "\n",
    "    for i in range(1, len(name)):\n",
    "\n",
    "         c = ord(name[i].upper()) - 65\n",
    "\n",
    "         if c >= 0 and c <= 25:\n",
    "\n",
    "             if mappings[c] != '0':\n",
    "\n",
    "                 if mappings[c] != soundexcoding[soundexcodingindex-1]:\n",
    "\n",
    "                     soundexcoding[soundexcodingindex] = mappings[c]\n",
    "                     soundexcodingindex += 1\n",
    "\n",
    "                 if soundexcodingindex > 3:\n",
    "\n",
    "                     break\n",
    "\n",
    "    if soundexcodingindex <= 3:\n",
    "        while(soundexcodingindex <= 3):\n",
    "            soundexcoding[soundexcodingindex] = '0'\n",
    "            soundexcodingindex += 1\n",
    "\n",
    "    return ''.join(soundexcoding)"
   ]
  },
  {
   "cell_type": "code",
   "execution_count": 16,
   "id": "9dc0649f",
   "metadata": {},
   "outputs": [],
   "source": [
    "def is_recognizable():\n",
    "    return len(shazam_info[1][\"matches\"])>0\n",
    "\n",
    "def get_song_info():\n",
    "    return shazam_info[1][\"track\"][\"title\"], shazam_info[1][\"track\"][\"subtitle\"]"
   ]
  },
  {
   "cell_type": "code",
   "execution_count": 17,
   "id": "32a16cf4",
   "metadata": {},
   "outputs": [],
   "source": [
    "URL = 'https://www.billboard.com/charts/hot-100/'\n",
    "Top100Website = requests.get(URL)\n",
    "result = BeautifulSoup(Top100Website.content, 'html.parser')"
   ]
  },
  {
   "cell_type": "code",
   "execution_count": 18,
   "id": "7a7b48d6",
   "metadata": {},
   "outputs": [],
   "source": [
    "result.find(\"span\", id=\"count_texttitle-of-a-story\")"
   ]
  },
  {
   "cell_type": "code",
   "execution_count": 19,
   "id": "4caf93ab",
   "metadata": {},
   "outputs": [
    {
     "name": "stdout",
     "output_type": "stream",
     "text": [
      "Empty DataFrame\n",
      "Columns: [place, song, artists, song_soundex]\n",
      "Index: []\n"
     ]
    }
   ],
   "source": [
    "line_number = 0\n",
    "place_number = 0\n",
    "Song = \"\";\n",
    "Artists = \"\";\n",
    "Top_100 = pd.DataFrame(columns=['place','song','artists', 'song_soundex'])\n",
    "\n",
    "\n",
    "for lines in result.find_all(\"li\", {\"o-chart-results-list__item\"}):\n",
    "    line_number += 1\n",
    "\n",
    " \n",
    "    if((line_number-4)%14==0):\n",
    "        place_number += 1\n",
    "        internal_line = 1\n",
    "        for current_line in lines.get_text().splitlines():\n",
    "\n",
    "            if(current_line.strip()!=\"\"):\n",
    "                if(internal_line==1):\n",
    "                    Song = current_line.strip()\n",
    "                else:\n",
    "                    Artists = current_line.strip()\n",
    "\n",
    "                    Top_100.loc[place_number -1] = [place_number, Song, Artists, soundex(str(Song))]\n",
    " \n",
    "                internal_line += 1"
   ]
  },
  {
   "cell_type": "code",
   "execution_count": null,
   "id": "6b96aae7",
   "metadata": {},
   "outputs": [],
   "source": []
  },
  {
   "cell_type": "code",
   "execution_count": 20,
   "id": "1447ed3c",
   "metadata": {},
   "outputs": [
    {
     "data": {
      "text/html": [
       "<div>\n",
       "<style scoped>\n",
       "    .dataframe tbody tr th:only-of-type {\n",
       "        vertical-align: middle;\n",
       "    }\n",
       "\n",
       "    .dataframe tbody tr th {\n",
       "        vertical-align: top;\n",
       "    }\n",
       "\n",
       "    .dataframe thead th {\n",
       "        text-align: right;\n",
       "    }\n",
       "</style>\n",
       "<table border=\"1\" class=\"dataframe\">\n",
       "  <thead>\n",
       "    <tr style=\"text-align: right;\">\n",
       "      <th></th>\n",
       "      <th>place</th>\n",
       "      <th>song</th>\n",
       "      <th>artists</th>\n",
       "      <th>song_soundex</th>\n",
       "    </tr>\n",
       "  </thead>\n",
       "  <tbody>\n",
       "    <tr>\n",
       "      <th>0</th>\n",
       "      <td>1</td>\n",
       "      <td>As It Was</td>\n",
       "      <td>Harry Styles</td>\n",
       "      <td>A232</td>\n",
       "    </tr>\n",
       "    <tr>\n",
       "      <th>1</th>\n",
       "      <td>2</td>\n",
       "      <td>First Class</td>\n",
       "      <td>Jack Harlow</td>\n",
       "      <td>F623</td>\n",
       "    </tr>\n",
       "    <tr>\n",
       "      <th>2</th>\n",
       "      <td>3</td>\n",
       "      <td>Heat Waves</td>\n",
       "      <td>Glass Animals</td>\n",
       "      <td>H312</td>\n",
       "    </tr>\n",
       "    <tr>\n",
       "      <th>3</th>\n",
       "      <td>4</td>\n",
       "      <td>Big Energy</td>\n",
       "      <td>Latto</td>\n",
       "      <td>B256</td>\n",
       "    </tr>\n",
       "    <tr>\n",
       "      <th>4</th>\n",
       "      <td>5</td>\n",
       "      <td>Enemy</td>\n",
       "      <td>Imagine Dragons X JID</td>\n",
       "      <td>E500</td>\n",
       "    </tr>\n",
       "    <tr>\n",
       "      <th>...</th>\n",
       "      <td>...</td>\n",
       "      <td>...</td>\n",
       "      <td>...</td>\n",
       "      <td>...</td>\n",
       "    </tr>\n",
       "    <tr>\n",
       "      <th>95</th>\n",
       "      <td>96</td>\n",
       "      <td>P Power</td>\n",
       "      <td>Gunna Featuring Drake</td>\n",
       "      <td>P160</td>\n",
       "    </tr>\n",
       "    <tr>\n",
       "      <th>96</th>\n",
       "      <td>97</td>\n",
       "      <td>Money So Big</td>\n",
       "      <td>Yeat</td>\n",
       "      <td>M521</td>\n",
       "    </tr>\n",
       "    <tr>\n",
       "      <th>97</th>\n",
       "      <td>98</td>\n",
       "      <td>Blick Blick!</td>\n",
       "      <td>Coi Leray &amp; Nicki Minaj</td>\n",
       "      <td>B421</td>\n",
       "    </tr>\n",
       "    <tr>\n",
       "      <th>98</th>\n",
       "      <td>99</td>\n",
       "      <td>Fall In Love</td>\n",
       "      <td>Bailey Zimmerman</td>\n",
       "      <td>F454</td>\n",
       "    </tr>\n",
       "    <tr>\n",
       "      <th>99</th>\n",
       "      <td>100</td>\n",
       "      <td>X Ultima Vez</td>\n",
       "      <td>Daddy Yankee &amp; Bad Bunny</td>\n",
       "      <td>X435</td>\n",
       "    </tr>\n",
       "  </tbody>\n",
       "</table>\n",
       "<p>100 rows × 4 columns</p>\n",
       "</div>"
      ],
      "text/plain": [
       "   place          song                   artists song_soundex\n",
       "0      1     As It Was              Harry Styles         A232\n",
       "1      2   First Class               Jack Harlow         F623\n",
       "2      3    Heat Waves             Glass Animals         H312\n",
       "3      4    Big Energy                     Latto         B256\n",
       "4      5         Enemy     Imagine Dragons X JID         E500\n",
       "..   ...           ...                       ...          ...\n",
       "95    96       P Power     Gunna Featuring Drake         P160\n",
       "96    97  Money So Big                      Yeat         M521\n",
       "97    98  Blick Blick!   Coi Leray & Nicki Minaj         B421\n",
       "98    99  Fall In Love          Bailey Zimmerman         F454\n",
       "99   100  X Ultima Vez  Daddy Yankee & Bad Bunny         X435\n",
       "\n",
       "[100 rows x 4 columns]"
      ]
     },
     "execution_count": 20,
     "metadata": {},
     "output_type": "execute_result"
    }
   ],
   "source": [
    "#temporary\n",
    "Top_100"
   ]
  },
  {
   "cell_type": "code",
   "execution_count": null,
   "id": "caf76816",
   "metadata": {},
   "outputs": [],
   "source": []
  },
  {
   "cell_type": "code",
   "execution_count": 27,
   "id": "9e8c28ad",
   "metadata": {
    "scrolled": true
   },
   "outputs": [
    {
     "name": "stdout",
     "output_type": "stream",
     "text": [
      "Please enter a song to base a recommendation on shazaam\n"
     ]
    }
   ],
   "source": [
    "recommend_me_something_for_this = input(\"Please enter a song to base a recommendation on \")"
   ]
  },
  {
   "cell_type": "code",

   "execution_count": 25,

   "id": "77ff52f5",
   "metadata": {},
   "outputs": [
    {
     "name": "stdout",
     "output_type": "stream",
     "text": [

      "Starting: Play music now!\n",
      "finished\n",
      "that was : Easy On Me from Adele\n",
      "Let me recommend you:\n",
      "   place          song                         artists song_soundex\n",
      "64    65  Flower Shops  ERNEST Featuring Morgan Wallen         F462\n"
     ]
    }
   ],
   "source": [
    "if(recommend_me_something_for_this==\"shazaam\"):\n",
    "    \n",
    "    fs = 44100  # this is the frequency sampling; also: 4999, 64000\n",
    "    seconds = 5  # Duration of recording\n",
    "\n",
    "    myrecording = sd.rec(int(seconds * fs), samplerate=fs, channels=2)\n",
    "    print(\"Starting: Play music now!\")\n",
    "    sd.wait()  # Wait until recording is finished\n",
    "    print(\"finished\")\n",
    "    write('song.wav', fs, myrecording)\n",
    "    \n",
    "    sound = AudioSegment.from_wav(\"song.wav\")\n",
    "    \n",
    "    # comment this for testing and copy the safe mp3\n",
    "    sound.export('song.mp3', format='mp3')\n",
    "    \n",
    "    mp3_file_content_to_recognize = open('song.mp3', 'rb').read()\n",
    "\n",
    "    shazam = Shazam(mp3_file_content_to_recognize)\n",
    "    recognize_generator = shazam.recognizeSong()\n",
    "    \n",
    "    shazam_info = next(recognize_generator)\n",
    "                   \n",
    "    if(len(shazam_info[1][\"matches\"])>0):\n",
    "                   \n",
    "       print(\"that was : \" + shazam_info[1][\"track\"][\"title\"] + \" from \" + shazam_info[1][\"track\"][\"subtitle\"])\n",
    "       recommend_me_something_for_this = shazam_info[1][\"track\"][\"title\"]\n",
    "                   \n",
    "    \n",
    "Number_Of_Songs_Found = len(Top_100[Top_100['song_soundex'] == soundex(recommend_me_something_for_this.strip())])\n",
    "if(Number_Of_Songs_Found>0):\n",
    "    #find a new song\n",
    "    print(\"Let me recommend you:\")\n",
    "    recommendation_dataframe = Top_100.sample(n=1)\n",
    "    print(str(recommendation_dataframe ))\n",
    "else:\n",
    "    print(\"Unfortunately, the song is not in the hot list!\")    "
   ]
  },
  {
   "cell_type": "code",
   "execution_count": null,
   "id": "9a26667d",
   "metadata": {},
   "outputs": [],
   "source": [
    "\n"
   ]
  },
  {
   "cell_type": "code",
   "execution_count": null,
   "id": "ad8fe3bd",
   "metadata": {},
   "outputs": [],
   "source": []
  }
 ],
 "metadata": {
  "kernelspec": {
   "display_name": "Python 3",
   "language": "python",
   "name": "python3"
  },
  "language_info": {
   "codemirror_mode": {
    "name": "ipython",
    "version": 3
   },
   "file_extension": ".py",
   "mimetype": "text/x-python",
   "name": "python",
   "nbconvert_exporter": "python",
   "pygments_lexer": "ipython3",
   "version": "3.8.8"
  }
 },
 "nbformat": 4,
 "nbformat_minor": 5
}
