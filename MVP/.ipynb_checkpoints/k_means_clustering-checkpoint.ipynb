{
 "cells": [
  {
   "cell_type": "code",
   "execution_count": 45,
   "id": "669c1c8f",
   "metadata": {},
   "outputs": [],
   "source": [
    "import config\n",
    "import spotipy\n",
    "import json\n",
    "from spotipy.oauth2 import SpotifyClientCredentials\n",
    "import pandas as pd\n",
    "import combine_dataframe"
   ]
  },
  {
   "cell_type": "code",
   "execution_count": 46,
   "id": "0d734221",
   "metadata": {},
   "outputs": [],
   "source": [
    "all_song_dataframe, credentials_dataframe, id_dataframe = combine_dataframe.get_combinedSongs()"
   ]
  },
  {
   "cell_type": "raw",
   "id": "2f057384",
   "metadata": {},
   "source": []
  }
 ],
 "metadata": {
  "kernelspec": {
   "display_name": "Python 3 (ipykernel)",
   "language": "python",
   "name": "python3"
  },
  "language_info": {
   "codemirror_mode": {
    "name": "ipython",
    "version": 3
   },
   "file_extension": ".py",
   "mimetype": "text/x-python",
   "name": "python",
   "nbconvert_exporter": "python",
   "pygments_lexer": "ipython3",
   "version": "3.9.7"
  }
 },
 "nbformat": 4,
 "nbformat_minor": 5
}
