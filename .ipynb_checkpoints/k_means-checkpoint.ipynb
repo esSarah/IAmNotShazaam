{
 "cells": [
  {
   "cell_type": "code",
   "execution_count": 6,
   "id": "f5947382",
   "metadata": {},
   "outputs": [],
   "source": [
    "import pandas as pd\n",
    "from sklearn.cluster import KMeans\n",
    "from sklearn import preprocessing"
   ]
  },
  {
   "cell_type": "code",
   "execution_count": 12,
   "id": "46352a4a",
   "metadata": {},
   "outputs": [],
   "source": [
    "# df = pd.read_csv('/Users/danielfriedman/Documents/Iron\\ Hack/git/IAmNotShazaam/data/Playlist-5S8SJdl1BDc0ugpkEvFsIL.csv ')"
   ]
  },
  {
   "cell_type": "code",
   "execution_count": null,
   "id": "2f8e38f9",
   "metadata": {},
   "outputs": [],
   "source": [
    "Users/danielfriedman/Documents/Iron\\ Hack/git/IAmNotShazaam/data/Playlist-5S8SJdl1BDc0ugpkEvFsIL.csv \n"
   ]
  },
  {
   "cell_type": "code",
   "execution_count": 13,
   "id": "cbe95a18",
   "metadata": {},
   "outputs": [
    {
     "ename": "FileNotFoundError",
     "evalue": "[Errno 2] No such file or directory: '../data/test.txt'",
     "output_type": "error",
     "traceback": [
      "\u001b[0;31m---------------------------------------------------------------------------\u001b[0m",
      "\u001b[0;31mFileNotFoundError\u001b[0m                         Traceback (most recent call last)",
      "Input \u001b[0;32mIn [13]\u001b[0m, in \u001b[0;36m<cell line: 1>\u001b[0;34m()\u001b[0m\n\u001b[0;32m----> 1\u001b[0m file \u001b[38;5;241m=\u001b[39m \u001b[38;5;28;43mopen\u001b[39;49m\u001b[43m(\u001b[49m\u001b[38;5;124;43m'\u001b[39;49m\u001b[38;5;124;43m../data/test.txt\u001b[39;49m\u001b[38;5;124;43m'\u001b[39;49m\u001b[43m,\u001b[49m\u001b[43m \u001b[49m\u001b[38;5;124;43m'\u001b[39;49m\u001b[38;5;124;43mw\u001b[39;49m\u001b[38;5;124;43m'\u001b[39;49m\u001b[43m)\u001b[49m\n",
      "\u001b[0;31mFileNotFoundError\u001b[0m: [Errno 2] No such file or directory: '../data/test.txt'"
     ]
    }
   ],
   "source": [
    "file = open('../data/test.txt', 'w')"
   ]
  },
  {
   "cell_type": "code",
   "execution_count": null,
   "id": "72d83eea",
   "metadata": {},
   "outputs": [],
   "source": []
  }
 ],
 "metadata": {
  "kernelspec": {
   "display_name": "Python 3 (ipykernel)",
   "language": "python",
   "name": "python3"
  },
  "language_info": {
   "codemirror_mode": {
    "name": "ipython",
    "version": 3
   },
   "file_extension": ".py",
   "mimetype": "text/x-python",
   "name": "python",
   "nbconvert_exporter": "python",
   "pygments_lexer": "ipython3",
   "version": "3.9.7"
  }
 },
 "nbformat": 4,
 "nbformat_minor": 5
}
