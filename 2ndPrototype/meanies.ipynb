{
 "cells": [
  {
   "cell_type": "code",
   "execution_count": 35,
   "id": "fd2e29ef",
   "metadata": {},
   "outputs": [],
   "source": [
    "import os\n",
    "import pandas as pd\n"
   ]
  },
  {
   "cell_type": "code",
   "execution_count": 36,
   "id": "fbe07772",
   "metadata": {},
   "outputs": [],
   "source": [
    "CSVs = []\n",
    "files = os.listdir('../data/')\n"
   ]
  },
  {
   "cell_type": "code",
   "execution_count": 37,
   "id": "03a36f1c",
   "metadata": {},
   "outputs": [],
   "source": [
    "for file in files:\n",
    "    #file is not an object, but a string\n",
    "    start_of_filename = file.split(\"-\", 1)[0]\n",
    "\n",
    "    if(start_of_filename == 'Playlist'):\n",
    "        CSVs.append(file)\n"
   ]
  },
  {
   "cell_type": "code",
   "execution_count": 38,
   "id": "a92bed84",
   "metadata": {},
   "outputs": [
    {
     "name": "stdout",
     "output_type": "stream",
     "text": [
      "['Playlist-5S8SJdl1BDc0ugpkEvFsIL.csv', 'Playlist-6ajZ3ZK5HL1peecsWjWZ7Y.csv', 'Playlist-76qBirKKUYdQIkvyzp0mqU.csv']\n"
     ]
    }
   ],
   "source": [
    "print(CSVs)\n",
    "    "
   ]
  },
  {
   "cell_type": "code",
   "execution_count": 39,
   "id": "2e551d89",
   "metadata": {},
   "outputs": [],
   "source": [
    "dataframe_of_songs = pd.DataFrame(columns = ['setnumber','Title','id','danceability','energy','key','loudness','mode','speechiness','acousticness','instrumentalness','liveness','valence','tempo'])\n",
    "\n",
    "\n",
    "    "
   ]
  },
  {
   "cell_type": "code",
   "execution_count": 40,
   "id": "53ef7d8d",
   "metadata": {},
   "outputs": [],
   "source": [
    "for csv in CSVs:\n",
    "    current_csv_as_dataframe = pd.read_csv(\"../data/\" + csv)\n",
    "    dataframe_of_songs = pd.concat([dataframe_of_songs,  current_csv_as_dataframe])\n"
   ]
  },
  {
   "cell_type": "code",
   "execution_count": null,
   "id": "afd88add",
   "metadata": {},
   "outputs": [],
   "source": []
  },
  {
   "cell_type": "code",
   "execution_count": 41,
   "id": "499fdde3",
   "metadata": {},
   "outputs": [],
   "source": [
    "features = dataframe_of_songs[['danceability','energy','key','loudness','mode','speechiness','acousticness','instrumentalness','liveness','valence','tempo']] "
   ]
  },
  {
   "cell_type": "code",
   "execution_count": 42,
   "id": "7a60f6a4",
   "metadata": {},
   "outputs": [],
   "source": [
    "song_credentials = dataframe_of_songs[['Title','id']]\n"
   ]
  },
  {
   "cell_type": "code",
   "execution_count": 43,
   "id": "b8bea6d1",
   "metadata": {},
   "outputs": [
    {
     "data": {
      "text/html": [
       "<div>\n",
       "<style scoped>\n",
       "    .dataframe tbody tr th:only-of-type {\n",
       "        vertical-align: middle;\n",
       "    }\n",
       "\n",
       "    .dataframe tbody tr th {\n",
       "        vertical-align: top;\n",
       "    }\n",
       "\n",
       "    .dataframe thead th {\n",
       "        text-align: right;\n",
       "    }\n",
       "</style>\n",
       "<table border=\"1\" class=\"dataframe\">\n",
       "  <thead>\n",
       "    <tr style=\"text-align: right;\">\n",
       "      <th></th>\n",
       "      <th>Title</th>\n",
       "      <th>id</th>\n",
       "    </tr>\n",
       "  </thead>\n",
       "  <tbody>\n",
       "    <tr>\n",
       "      <th>0</th>\n",
       "      <td>...Ready For It?</td>\n",
       "      <td>2yLa0QULdQr0qAIvVwN6B5</td>\n",
       "    </tr>\n",
       "    <tr>\n",
       "      <th>1</th>\n",
       "      <td>Life Changes</td>\n",
       "      <td>4Vxu50qVrQcycjRyJQaZLC</td>\n",
       "    </tr>\n",
       "    <tr>\n",
       "      <th>2</th>\n",
       "      <td>24K Magic</td>\n",
       "      <td>6b8Be6ljOzmkOmFslEb23P</td>\n",
       "    </tr>\n",
       "    <tr>\n",
       "      <th>3</th>\n",
       "      <td>Galway Girl</td>\n",
       "      <td>0afhq8XCExXpqazXczTSve</td>\n",
       "    </tr>\n",
       "    <tr>\n",
       "      <th>4</th>\n",
       "      <td>Photograph</td>\n",
       "      <td>1HNkqx9Ahdgi1Ixy2xkKkL</td>\n",
       "    </tr>\n",
       "    <tr>\n",
       "      <th>...</th>\n",
       "      <td>...</td>\n",
       "      <td>...</td>\n",
       "    </tr>\n",
       "    <tr>\n",
       "      <th>5</th>\n",
       "      <td>No Church In The Wild</td>\n",
       "      <td>3Osd3Yf8K73aj4ySn6LrvK</td>\n",
       "    </tr>\n",
       "    <tr>\n",
       "      <th>6</th>\n",
       "      <td>Stronger</td>\n",
       "      <td>0j2T0R9dR9qdJYsB7ciXhf</td>\n",
       "    </tr>\n",
       "    <tr>\n",
       "      <th>7</th>\n",
       "      <td>Super Rich Kids</td>\n",
       "      <td>0725YWm6Z0TpZ6wrNk64Eb</td>\n",
       "    </tr>\n",
       "    <tr>\n",
       "      <th>8</th>\n",
       "      <td>Let It Go - From \"Frozen\"/Soundtrack Version</td>\n",
       "      <td>0qcr5FMsEO85NAQjrlDRKo</td>\n",
       "    </tr>\n",
       "    <tr>\n",
       "      <th>9</th>\n",
       "      <td>For the First Time in Forever - From \"Frozen\"/...</td>\n",
       "      <td>70b5Sq3ePOu3Gqg0hjlOtR</td>\n",
       "    </tr>\n",
       "  </tbody>\n",
       "</table>\n",
       "<p>18755 rows × 2 columns</p>\n",
       "</div>"
      ],
      "text/plain": [
       "                                                Title                      id\n",
       "0                                    ...Ready For It?  2yLa0QULdQr0qAIvVwN6B5\n",
       "1                                        Life Changes  4Vxu50qVrQcycjRyJQaZLC\n",
       "2                                           24K Magic  6b8Be6ljOzmkOmFslEb23P\n",
       "3                                         Galway Girl  0afhq8XCExXpqazXczTSve\n",
       "4                                          Photograph  1HNkqx9Ahdgi1Ixy2xkKkL\n",
       "..                                                ...                     ...\n",
       "5                               No Church In The Wild  3Osd3Yf8K73aj4ySn6LrvK\n",
       "6                                            Stronger  0j2T0R9dR9qdJYsB7ciXhf\n",
       "7                                     Super Rich Kids  0725YWm6Z0TpZ6wrNk64Eb\n",
       "8        Let It Go - From \"Frozen\"/Soundtrack Version  0qcr5FMsEO85NAQjrlDRKo\n",
       "9   For the First Time in Forever - From \"Frozen\"/...  70b5Sq3ePOu3Gqg0hjlOtR\n",
       "\n",
       "[18755 rows x 2 columns]"
      ]
     },
     "execution_count": 43,
     "metadata": {},
     "output_type": "execute_result"
    }
   ],
   "source": [
    "song_credentials"
   ]
  },
  {
   "cell_type": "code",
   "execution_count": null,
   "id": "cd0c8fd0",
   "metadata": {},
   "outputs": [],
   "source": []
  }
 ],
 "metadata": {
  "kernelspec": {
   "display_name": "Python 3 (ipykernel)",
   "language": "python",
   "name": "python3"
  },
  "language_info": {
   "codemirror_mode": {
    "name": "ipython",
    "version": 3
   },
   "file_extension": ".py",
   "mimetype": "text/x-python",
   "name": "python",
   "nbconvert_exporter": "python",
   "pygments_lexer": "ipython3",
   "version": "3.9.7"
  }
 },
 "nbformat": 4,
 "nbformat_minor": 5
}
